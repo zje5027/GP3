{
  "nbformat": 4,
  "nbformat_minor": 0,
  "metadata": {
    "colab": {
      "name": "GP_3.ipynb",
      "provenance": [],
      "toc_visible": true,
      "include_colab_link": true
    },
    "kernelspec": {
      "name": "python3",
      "display_name": "Python 3"
    }
  },
  "cells": [
    {
      "cell_type": "markdown",
      "metadata": {
        "id": "view-in-github",
        "colab_type": "text"
      },
      "source": [
        "<a href=\"https://colab.research.google.com/github/zje5027/GP3/blob/main/GP_3.ipynb\" target=\"_parent\"><img src=\"https://colab.research.google.com/assets/colab-badge.svg\" alt=\"Open In Colab\"/></a>"
      ]
    },
    {
      "cell_type": "markdown",
      "metadata": {
        "id": "CAs7nuxSUtx9"
      },
      "source": [
        "#  ORIGINAL ER Diagram"
      ]
    },
    {
      "cell_type": "code",
      "metadata": {
        "id": "nW8hPm-rO0GH",
        "colab": {
          "base_uri": "https://localhost:8080/"
        },
        "outputId": "cb1a969c-d3d8-420b-acf7-c58ace07ab34"
      },
      "source": [
        "![ER diagram of media rental sevice](https://nbviewer.jupyter.org/github/zje5027/Group_Lab_2/blob/main/Group%20Lab%202.png)"
      ],
      "execution_count": null,
      "outputs": [
        {
          "output_type": "stream",
          "text": [
            "/bin/bash: -c: line 0: syntax error near unexpected token `('\n",
            "/bin/bash: -c: line 0: `[ER diagram of media rental sevice](https://nbviewer.jupyter.org/github/zje5027/Group_Lab_2/blob/main/Group%20Lab%202.png)'\n"
          ],
          "name": "stdout"
        }
      ]
    },
    {
      "cell_type": "markdown",
      "metadata": {
        "id": "wxhFys43P08J"
      },
      "source": [
        "![ER diagram of media rental sevice](https://nbviewer.jupyter.org/github/zje5027/Group_Lab_2/blob/main/Group%20Lab%202.png)"
      ]
    },
    {
      "cell_type": "markdown",
      "metadata": {
        "id": "yFwYhkRgHM4C"
      },
      "source": [
        "# UPDATED ER Diagram"
      ]
    },
    {
      "cell_type": "code",
      "metadata": {
        "colab": {
          "base_uri": "https://localhost:8080/"
        },
        "id": "nVk6VU4FAvly",
        "outputId": "f20bde46-35f3-4279-c70a-136df105d0ae"
      },
      "source": [
        "![Updates](https://raw.githubusercontent.com/zje5027/First-Google-NoteBook/master/Group%2520Lab%25202.png)"
      ],
      "execution_count": null,
      "outputs": [
        {
          "output_type": "stream",
          "text": [
            "/bin/bash: -c: line 0: syntax error near unexpected token `https://raw.githubusercontent.com/zje5027/First-Google-NoteBook/master/Group%2520Lab%25202.png'\n",
            "/bin/bash: -c: line 0: `[Updates](https://raw.githubusercontent.com/zje5027/First-Google-NoteBook/master/Group%2520Lab%25202.png)'\n"
          ],
          "name": "stdout"
        }
      ]
    },
    {
      "cell_type": "markdown",
      "metadata": {
        "id": "V5ZMWUbuRtj2"
      },
      "source": [
        "# Define SQL"
      ]
    },
    {
      "cell_type": "code",
      "metadata": {
        "id": "Vjy5cC0CR4cf",
        "colab": {
          "base_uri": "https://localhost:8080/",
          "height": 35
        },
        "outputId": "0b1d33c9-d481-4954-e8a8-a33504a97b46"
      },
      "source": [
        "%load_ext sql\n",
        "%sql sqlite:///libraryDatabase.db"
      ],
      "execution_count": null,
      "outputs": [
        {
          "output_type": "execute_result",
          "data": {
            "application/vnd.google.colaboratory.intrinsic+json": {
              "type": "string"
            },
            "text/plain": [
              "'Connected: @libraryDatabase.db'"
            ]
          },
          "metadata": {
            "tags": []
          },
          "execution_count": 4
        }
      ]
    },
    {
      "cell_type": "markdown",
      "metadata": {
        "id": "fTgfU3tJTAaK"
      },
      "source": [
        "# Create Tables"
      ]
    },
    {
      "cell_type": "code",
      "metadata": {
        "id": "0oQGQU6qTL-7",
        "colab": {
          "base_uri": "https://localhost:8080/"
        },
        "outputId": "0354d0fd-67bd-4b88-a4d6-2eeda8e98d73"
      },
      "source": [
        "%%sql  \n",
        "DROP TABLE IF EXISTS Books;\n",
        "create table Books (BOOK_ID_NUMBER text PRIMARY KEY, Author text, Publisher real, Genre text);\n",
        "\n",
        "DROP table IF EXISTS Transactions;\n",
        "create table Transactions (transactionID text PRIMARY KEY, RentalType text, DateTime text);"
      ],
      "execution_count": null,
      "outputs": [
        {
          "output_type": "stream",
          "text": [
            " * sqlite:///libraryDatabase.db\n",
            "Done.\n",
            "Done.\n",
            "Done.\n",
            "Done.\n"
          ],
          "name": "stdout"
        },
        {
          "output_type": "execute_result",
          "data": {
            "text/plain": [
              "[]"
            ]
          },
          "metadata": {
            "tags": []
          },
          "execution_count": 5
        }
      ]
    },
    {
      "cell_type": "code",
      "metadata": {
        "colab": {
          "base_uri": "https://localhost:8080/"
        },
        "id": "p0DgbiaIKQDZ",
        "outputId": "14dc2f8b-595a-4ef4-9c31-8756d8b441d1"
      },
      "source": [
        "%%sql\n",
        "DROP TABLE IF EXISTS Movies;\n",
        "create table Movies (Title text PRIMARY KEY, Director text, Actors text, Playtime real);\n",
        "\n",
        "DROP TABLE IF EXISTS Magazines;\n",
        "create table Magazines (Issue text PRIMARY KEY, Publisher text, Date text, Journalist real);\n",
        "\n",
        "DROP TABLE IF EXISTS Newspaper;\n",
        "create table Newspaper (UniqueID text PRIMARY KEY, Company Name text, Issue text, Stories real);\n",
        "\n"
      ],
      "execution_count": null,
      "outputs": [
        {
          "output_type": "stream",
          "text": [
            " * sqlite:///libraryDatabase.db\n",
            "Done.\n",
            "Done.\n",
            "Done.\n",
            "Done.\n",
            "Done.\n",
            "Done.\n"
          ],
          "name": "stdout"
        },
        {
          "output_type": "execute_result",
          "data": {
            "text/plain": [
              "[]"
            ]
          },
          "metadata": {
            "tags": []
          },
          "execution_count": 6
        }
      ]
    },
    {
      "cell_type": "markdown",
      "metadata": {
        "id": "asdAEc9c_ri1"
      },
      "source": [
        "# Insert Data"
      ]
    },
    {
      "cell_type": "code",
      "metadata": {
        "id": "cpBJkVASQrhw",
        "colab": {
          "base_uri": "https://localhost:8080/"
        },
        "outputId": "da8fe92f-fb43-4acb-cd7b-cff1fae37726"
      },
      "source": [
        "%%sql\n",
        "insert into Books values ('98723171', 'George R R Martin', 1, 'Fantasy');\n",
        "insert into Books values ('83231231', 'J K Rowling', 1, 'Fantasy');\n",
        "insert into Books values ('75351143', 'Ernest Hemingway', 1, 'Fiction');\n",
        "insert into Books values ('63532454', 'Mark Twain', 2, 'Non-Fiction');\n",
        "insert into Books values ('55234231', 'F Scott Fitzgerald', 3, 'Fiction');\n",
        "insert into Books values ('43423413', 'William Shakespeare', 4, 'Thriller');\n",
        "insert into Books values ('34242312', 'Charles Dickens', 5, 'Mystery');\n",
        "\n",
        "insert into Transactions values ('01', '56224432', '2019-11-14 19:12:54');\n",
        "insert into Transactions values ('02', '43423413', '2019-11-15 12:12:12');\n",
        "insert into Transactions values ('03', '43423413', '2019-11-15 12:12:20');\n",
        "insert into Transactions values ('04', '98723171', '2019-11-15 12:12:23');\n",
        "insert into Transactions values ('05', '83231231', '2019-11-15 19:34:23');\n",
        "insert into Transactions values ('06', '63532454', '2019-11-15 19:34:25');\n",
        "insert into Transactions values ('07', '43423413', '2019-11-15 19:34:30');\n",
        "insert into Transactions values ('08', '98723171', '2019-11-15 19:40:03');\n",
        "insert into Transactions values ('09', '55234231', '2019-11-15 19:40:05');\n",
        "insert into Transactions values ('10', '55234231', '2019-11-15 19:41:30');"
      ],
      "execution_count": null,
      "outputs": [
        {
          "output_type": "stream",
          "text": [
            " * sqlite:///libraryDatabase.db\n",
            "1 rows affected.\n",
            "1 rows affected.\n",
            "1 rows affected.\n",
            "1 rows affected.\n",
            "1 rows affected.\n",
            "1 rows affected.\n",
            "1 rows affected.\n",
            "1 rows affected.\n",
            "1 rows affected.\n",
            "1 rows affected.\n",
            "1 rows affected.\n",
            "1 rows affected.\n",
            "1 rows affected.\n",
            "1 rows affected.\n",
            "1 rows affected.\n",
            "1 rows affected.\n",
            "1 rows affected.\n"
          ],
          "name": "stdout"
        },
        {
          "output_type": "execute_result",
          "data": {
            "text/plain": [
              "[]"
            ]
          },
          "metadata": {
            "tags": []
          },
          "execution_count": 7
        }
      ]
    },
    {
      "cell_type": "code",
      "metadata": {
        "colab": {
          "base_uri": "https://localhost:8080/"
        },
        "id": "Ju3Ud0kqIC8V",
        "outputId": "4f06cfa0-7b7e-4baf-952f-59ec1d07e2ec"
      },
      "source": [
        "%%sql\n",
        "insert into Movies values ('The Matrix', 'Wachowski Sisters','Keanu Reeves', 120);\n",
        "insert into Movies values ('V for Vendetta', 'Wachowski Sisters', 'Hugo Weaving', 120);\n",
        "insert into Movies values ('2001 A Space Odyssey', 'Stanley Kubrick', 'Keir Dullea', 120 );\n",
        "insert into Movies values ('The Dark Knight', 'Christopher Nolan', 'Christian Bale', 120);\n",
        "insert into Movies values ('21 JumpStreet', 'Zach End', \"Joahna Hill\", 90 );\n",
        "insert into Movies values ('Spaceballs', 'Mel Gibson', 'Rick Moranis', 90 );\n",
        "insert into Movies values ('John Wick', 'David Leitch', 'Keanu Reeves', 90 );\n",
        "\n",
        "insert into Newspaper values ('The Matrix', 'Wachowski Sisters','Keanu Reeves', 120);\n",
        "insert into Newspaper values ('V for Vendetta', 'Wachowski Sisters', 'Hugo Weaving', 120);\n",
        "insert into Newspaper values ('2001 A Space Odyssey', 'Stanley Kubrick', 'Keir Dullea', 120 );\n",
        "insert into Newspaper values ('The Dark Knight', 'Christopher Nolan', 'Christian Bale', 120);\n",
        "insert into Newspaper values ('21 JumpStreet', 'Zach End', \"Joahna Hill\", 90 );\n",
        "insert into Newspaper values ('Spaceballs', 'Mel Gibson', 'Rick Moranis', 90 );\n",
        "insert into Newspaper values ('John Wick', 'David Leitch', 'Keanu Reeves', 90 );\n",
        "\n",
        "insert into Magazines values ('The Matrix', 'Wachowski Sisters','Keanu Reeves', 120);\n",
        "insert into Magazines values ('V for Vendetta', 'Wachowski Sisters', 'Hugo Weaving', 120);\n",
        "insert into Magazines values ('2001 A Space Odyssey', 'Stanley Kubrick', 'Keir Dullea', 120 );\n",
        "insert into Magazines values ('The Dark Knight', 'Christopher Nolan', 'Christian Bale', 120);\n",
        "insert into Magazines values ('21 JumpStreet', 'Zach End', \"Joahna Hill\", 90 );\n",
        "insert into Magazines values ('Spaceballs', 'Mel Gibson', 'Rick Moranis', 90 );\n",
        "insert into Magazines values ('John Wick', 'David Leitch', 'Keanu Reeves', 90 );\n",
        "\n",
        "\n"
      ],
      "execution_count": null,
      "outputs": [
        {
          "output_type": "stream",
          "text": [
            " * sqlite:///libraryDatabase.db\n",
            "1 rows affected.\n",
            "1 rows affected.\n",
            "1 rows affected.\n",
            "1 rows affected.\n",
            "1 rows affected.\n",
            "1 rows affected.\n",
            "1 rows affected.\n",
            "1 rows affected.\n",
            "1 rows affected.\n",
            "1 rows affected.\n",
            "1 rows affected.\n",
            "1 rows affected.\n",
            "1 rows affected.\n",
            "1 rows affected.\n",
            "1 rows affected.\n",
            "1 rows affected.\n",
            "1 rows affected.\n",
            "1 rows affected.\n",
            "1 rows affected.\n",
            "1 rows affected.\n",
            "1 rows affected.\n"
          ],
          "name": "stdout"
        },
        {
          "output_type": "execute_result",
          "data": {
            "text/plain": [
              "[]"
            ]
          },
          "metadata": {
            "tags": []
          },
          "execution_count": 8
        }
      ]
    },
    {
      "cell_type": "markdown",
      "metadata": {
        "id": "QUuGrrwnQqfw"
      },
      "source": [
        "# PrintOut_Test"
      ]
    },
    {
      "cell_type": "code",
      "metadata": {
        "id": "14OwmdnySw1I",
        "colab": {
          "base_uri": "https://localhost:8080/",
          "height": 212
        },
        "outputId": "1c16e138-f517-497d-b63c-bcd27931bad8"
      },
      "source": [
        "%%sql\n",
        "\n",
        "select * from Books;"
      ],
      "execution_count": null,
      "outputs": [
        {
          "output_type": "stream",
          "text": [
            " * sqlite:///libraryDatabase.db\n",
            "Done.\n"
          ],
          "name": "stdout"
        },
        {
          "output_type": "execute_result",
          "data": {
            "text/html": [
              "<table>\n",
              "    <tr>\n",
              "        <th>BOOK_ID_NUMBER</th>\n",
              "        <th>Author</th>\n",
              "        <th>Publisher</th>\n",
              "        <th>Genre</th>\n",
              "    </tr>\n",
              "    <tr>\n",
              "        <td>98723171</td>\n",
              "        <td>George R R Martin</td>\n",
              "        <td>1.0</td>\n",
              "        <td>Fantasy</td>\n",
              "    </tr>\n",
              "    <tr>\n",
              "        <td>83231231</td>\n",
              "        <td>J K Rowling</td>\n",
              "        <td>1.0</td>\n",
              "        <td>Fantasy</td>\n",
              "    </tr>\n",
              "    <tr>\n",
              "        <td>75351143</td>\n",
              "        <td>Ernest Hemingway</td>\n",
              "        <td>1.0</td>\n",
              "        <td>Fiction</td>\n",
              "    </tr>\n",
              "    <tr>\n",
              "        <td>63532454</td>\n",
              "        <td>Mark Twain</td>\n",
              "        <td>2.0</td>\n",
              "        <td>Non-Fiction</td>\n",
              "    </tr>\n",
              "    <tr>\n",
              "        <td>55234231</td>\n",
              "        <td>F Scott Fitzgerald</td>\n",
              "        <td>3.0</td>\n",
              "        <td>Fiction</td>\n",
              "    </tr>\n",
              "    <tr>\n",
              "        <td>43423413</td>\n",
              "        <td>William Shakespeare</td>\n",
              "        <td>4.0</td>\n",
              "        <td>Thriller</td>\n",
              "    </tr>\n",
              "    <tr>\n",
              "        <td>34242312</td>\n",
              "        <td>Charles Dickens</td>\n",
              "        <td>5.0</td>\n",
              "        <td>Mystery</td>\n",
              "    </tr>\n",
              "</table>"
            ],
            "text/plain": [
              "[('98723171', 'George R R Martin', 1.0, 'Fantasy'),\n",
              " ('83231231', 'J K Rowling', 1.0, 'Fantasy'),\n",
              " ('75351143', 'Ernest Hemingway', 1.0, 'Fiction'),\n",
              " ('63532454', 'Mark Twain', 2.0, 'Non-Fiction'),\n",
              " ('55234231', 'F Scott Fitzgerald', 3.0, 'Fiction'),\n",
              " ('43423413', 'William Shakespeare', 4.0, 'Thriller'),\n",
              " ('34242312', 'Charles Dickens', 5.0, 'Mystery')]"
            ]
          },
          "metadata": {
            "tags": []
          },
          "execution_count": 9
        }
      ]
    },
    {
      "cell_type": "code",
      "metadata": {
        "colab": {
          "base_uri": "https://localhost:8080/",
          "height": 212
        },
        "id": "xEGyrOa6SlZM",
        "outputId": "e79973fa-0043-412c-f291-e8b6d974c93c"
      },
      "source": [
        "%%sql\n",
        "select * from Movies;"
      ],
      "execution_count": null,
      "outputs": [
        {
          "output_type": "stream",
          "text": [
            " * sqlite:///libraryDatabase.db\n",
            "Done.\n"
          ],
          "name": "stdout"
        },
        {
          "output_type": "execute_result",
          "data": {
            "text/html": [
              "<table>\n",
              "    <tr>\n",
              "        <th>Title</th>\n",
              "        <th>Director</th>\n",
              "        <th>Actors</th>\n",
              "        <th>Playtime</th>\n",
              "    </tr>\n",
              "    <tr>\n",
              "        <td>The Matrix</td>\n",
              "        <td>Wachowski Sisters</td>\n",
              "        <td>Keanu Reeves</td>\n",
              "        <td>120.0</td>\n",
              "    </tr>\n",
              "    <tr>\n",
              "        <td>V for Vendetta</td>\n",
              "        <td>Wachowski Sisters</td>\n",
              "        <td>Hugo Weaving</td>\n",
              "        <td>120.0</td>\n",
              "    </tr>\n",
              "    <tr>\n",
              "        <td>2001 A Space Odyssey</td>\n",
              "        <td>Stanley Kubrick</td>\n",
              "        <td>Keir Dullea</td>\n",
              "        <td>120.0</td>\n",
              "    </tr>\n",
              "    <tr>\n",
              "        <td>The Dark Knight</td>\n",
              "        <td>Christopher Nolan</td>\n",
              "        <td>Christian Bale</td>\n",
              "        <td>120.0</td>\n",
              "    </tr>\n",
              "    <tr>\n",
              "        <td>21 JumpStreet</td>\n",
              "        <td>Zach End</td>\n",
              "        <td>Joahna Hill</td>\n",
              "        <td>90.0</td>\n",
              "    </tr>\n",
              "    <tr>\n",
              "        <td>Spaceballs</td>\n",
              "        <td>Mel Gibson</td>\n",
              "        <td>Rick Moranis</td>\n",
              "        <td>90.0</td>\n",
              "    </tr>\n",
              "    <tr>\n",
              "        <td>John Wick</td>\n",
              "        <td>David Leitch</td>\n",
              "        <td>Keanu Reeves</td>\n",
              "        <td>90.0</td>\n",
              "    </tr>\n",
              "</table>"
            ],
            "text/plain": [
              "[('The Matrix', 'Wachowski Sisters', 'Keanu Reeves', 120.0),\n",
              " ('V for Vendetta', 'Wachowski Sisters', 'Hugo Weaving', 120.0),\n",
              " ('2001 A Space Odyssey', 'Stanley Kubrick', 'Keir Dullea', 120.0),\n",
              " ('The Dark Knight', 'Christopher Nolan', 'Christian Bale', 120.0),\n",
              " ('21 JumpStreet', 'Zach End', 'Joahna Hill', 90.0),\n",
              " ('Spaceballs', 'Mel Gibson', 'Rick Moranis', 90.0),\n",
              " ('John Wick', 'David Leitch', 'Keanu Reeves', 90.0)]"
            ]
          },
          "metadata": {
            "tags": []
          },
          "execution_count": 10
        }
      ]
    },
    {
      "cell_type": "code",
      "metadata": {
        "colab": {
          "base_uri": "https://localhost:8080/",
          "height": 272
        },
        "id": "gYBA5_edURS4",
        "outputId": "8116675b-1d73-4dab-9c8e-4f82f26e0b51"
      },
      "source": [
        "%%sql\n",
        "\n",
        "select * from Transactions;"
      ],
      "execution_count": null,
      "outputs": [
        {
          "output_type": "stream",
          "text": [
            " * sqlite:///libraryDatabase.db\n",
            "Done.\n"
          ],
          "name": "stdout"
        },
        {
          "output_type": "execute_result",
          "data": {
            "text/html": [
              "<table>\n",
              "    <tr>\n",
              "        <th>transactionID</th>\n",
              "        <th>RentalType</th>\n",
              "        <th>DateTime</th>\n",
              "    </tr>\n",
              "    <tr>\n",
              "        <td>01</td>\n",
              "        <td>56224432</td>\n",
              "        <td>2019-11-14 19:12:54</td>\n",
              "    </tr>\n",
              "    <tr>\n",
              "        <td>02</td>\n",
              "        <td>43423413</td>\n",
              "        <td>2019-11-15 12:12:12</td>\n",
              "    </tr>\n",
              "    <tr>\n",
              "        <td>03</td>\n",
              "        <td>43423413</td>\n",
              "        <td>2019-11-15 12:12:20</td>\n",
              "    </tr>\n",
              "    <tr>\n",
              "        <td>04</td>\n",
              "        <td>98723171</td>\n",
              "        <td>2019-11-15 12:12:23</td>\n",
              "    </tr>\n",
              "    <tr>\n",
              "        <td>05</td>\n",
              "        <td>83231231</td>\n",
              "        <td>2019-11-15 19:34:23</td>\n",
              "    </tr>\n",
              "    <tr>\n",
              "        <td>06</td>\n",
              "        <td>63532454</td>\n",
              "        <td>2019-11-15 19:34:25</td>\n",
              "    </tr>\n",
              "    <tr>\n",
              "        <td>07</td>\n",
              "        <td>43423413</td>\n",
              "        <td>2019-11-15 19:34:30</td>\n",
              "    </tr>\n",
              "    <tr>\n",
              "        <td>08</td>\n",
              "        <td>98723171</td>\n",
              "        <td>2019-11-15 19:40:03</td>\n",
              "    </tr>\n",
              "    <tr>\n",
              "        <td>09</td>\n",
              "        <td>55234231</td>\n",
              "        <td>2019-11-15 19:40:05</td>\n",
              "    </tr>\n",
              "    <tr>\n",
              "        <td>10</td>\n",
              "        <td>55234231</td>\n",
              "        <td>2019-11-15 19:41:30</td>\n",
              "    </tr>\n",
              "</table>"
            ],
            "text/plain": [
              "[('01', '56224432', '2019-11-14 19:12:54'),\n",
              " ('02', '43423413', '2019-11-15 12:12:12'),\n",
              " ('03', '43423413', '2019-11-15 12:12:20'),\n",
              " ('04', '98723171', '2019-11-15 12:12:23'),\n",
              " ('05', '83231231', '2019-11-15 19:34:23'),\n",
              " ('06', '63532454', '2019-11-15 19:34:25'),\n",
              " ('07', '43423413', '2019-11-15 19:34:30'),\n",
              " ('08', '98723171', '2019-11-15 19:40:03'),\n",
              " ('09', '55234231', '2019-11-15 19:40:05'),\n",
              " ('10', '55234231', '2019-11-15 19:41:30')]"
            ]
          },
          "metadata": {
            "tags": []
          },
          "execution_count": 11
        }
      ]
    },
    {
      "cell_type": "code",
      "metadata": {
        "colab": {
          "base_uri": "https://localhost:8080/",
          "height": 212
        },
        "id": "43vT-sQc2ahf",
        "outputId": "4acd7679-3e6a-4b64-da53-9865b2d71bd7"
      },
      "source": [
        "%%sql\n",
        "\n",
        "select * from Magazines;"
      ],
      "execution_count": null,
      "outputs": [
        {
          "output_type": "stream",
          "text": [
            " * sqlite:///libraryDatabase.db\n",
            "Done.\n"
          ],
          "name": "stdout"
        },
        {
          "output_type": "execute_result",
          "data": {
            "text/html": [
              "<table>\n",
              "    <tr>\n",
              "        <th>Issue</th>\n",
              "        <th>Publisher</th>\n",
              "        <th>Date</th>\n",
              "        <th>Journalist</th>\n",
              "    </tr>\n",
              "    <tr>\n",
              "        <td>The Matrix</td>\n",
              "        <td>Wachowski Sisters</td>\n",
              "        <td>Keanu Reeves</td>\n",
              "        <td>120.0</td>\n",
              "    </tr>\n",
              "    <tr>\n",
              "        <td>V for Vendetta</td>\n",
              "        <td>Wachowski Sisters</td>\n",
              "        <td>Hugo Weaving</td>\n",
              "        <td>120.0</td>\n",
              "    </tr>\n",
              "    <tr>\n",
              "        <td>2001 A Space Odyssey</td>\n",
              "        <td>Stanley Kubrick</td>\n",
              "        <td>Keir Dullea</td>\n",
              "        <td>120.0</td>\n",
              "    </tr>\n",
              "    <tr>\n",
              "        <td>The Dark Knight</td>\n",
              "        <td>Christopher Nolan</td>\n",
              "        <td>Christian Bale</td>\n",
              "        <td>120.0</td>\n",
              "    </tr>\n",
              "    <tr>\n",
              "        <td>21 JumpStreet</td>\n",
              "        <td>Zach End</td>\n",
              "        <td>Joahna Hill</td>\n",
              "        <td>90.0</td>\n",
              "    </tr>\n",
              "    <tr>\n",
              "        <td>Spaceballs</td>\n",
              "        <td>Mel Gibson</td>\n",
              "        <td>Rick Moranis</td>\n",
              "        <td>90.0</td>\n",
              "    </tr>\n",
              "    <tr>\n",
              "        <td>John Wick</td>\n",
              "        <td>David Leitch</td>\n",
              "        <td>Keanu Reeves</td>\n",
              "        <td>90.0</td>\n",
              "    </tr>\n",
              "</table>"
            ],
            "text/plain": [
              "[('The Matrix', 'Wachowski Sisters', 'Keanu Reeves', 120.0),\n",
              " ('V for Vendetta', 'Wachowski Sisters', 'Hugo Weaving', 120.0),\n",
              " ('2001 A Space Odyssey', 'Stanley Kubrick', 'Keir Dullea', 120.0),\n",
              " ('The Dark Knight', 'Christopher Nolan', 'Christian Bale', 120.0),\n",
              " ('21 JumpStreet', 'Zach End', 'Joahna Hill', 90.0),\n",
              " ('Spaceballs', 'Mel Gibson', 'Rick Moranis', 90.0),\n",
              " ('John Wick', 'David Leitch', 'Keanu Reeves', 90.0)]"
            ]
          },
          "metadata": {
            "tags": []
          },
          "execution_count": 12
        }
      ]
    },
    {
      "cell_type": "code",
      "metadata": {
        "colab": {
          "base_uri": "https://localhost:8080/",
          "height": 212
        },
        "id": "fJUzTxLP2h2J",
        "outputId": "a273504e-f88b-448c-b45f-f09e51b0396b"
      },
      "source": [
        "%%sql \n",
        "select * from Newspaper;"
      ],
      "execution_count": null,
      "outputs": [
        {
          "output_type": "stream",
          "text": [
            " * sqlite:///libraryDatabase.db\n",
            "Done.\n"
          ],
          "name": "stdout"
        },
        {
          "output_type": "execute_result",
          "data": {
            "text/html": [
              "<table>\n",
              "    <tr>\n",
              "        <th>UniqueID</th>\n",
              "        <th>Company</th>\n",
              "        <th>Issue</th>\n",
              "        <th>Stories</th>\n",
              "    </tr>\n",
              "    <tr>\n",
              "        <td>The Matrix</td>\n",
              "        <td>Wachowski Sisters</td>\n",
              "        <td>Keanu Reeves</td>\n",
              "        <td>120.0</td>\n",
              "    </tr>\n",
              "    <tr>\n",
              "        <td>V for Vendetta</td>\n",
              "        <td>Wachowski Sisters</td>\n",
              "        <td>Hugo Weaving</td>\n",
              "        <td>120.0</td>\n",
              "    </tr>\n",
              "    <tr>\n",
              "        <td>2001 A Space Odyssey</td>\n",
              "        <td>Stanley Kubrick</td>\n",
              "        <td>Keir Dullea</td>\n",
              "        <td>120.0</td>\n",
              "    </tr>\n",
              "    <tr>\n",
              "        <td>The Dark Knight</td>\n",
              "        <td>Christopher Nolan</td>\n",
              "        <td>Christian Bale</td>\n",
              "        <td>120.0</td>\n",
              "    </tr>\n",
              "    <tr>\n",
              "        <td>21 JumpStreet</td>\n",
              "        <td>Zach End</td>\n",
              "        <td>Joahna Hill</td>\n",
              "        <td>90.0</td>\n",
              "    </tr>\n",
              "    <tr>\n",
              "        <td>Spaceballs</td>\n",
              "        <td>Mel Gibson</td>\n",
              "        <td>Rick Moranis</td>\n",
              "        <td>90.0</td>\n",
              "    </tr>\n",
              "    <tr>\n",
              "        <td>John Wick</td>\n",
              "        <td>David Leitch</td>\n",
              "        <td>Keanu Reeves</td>\n",
              "        <td>90.0</td>\n",
              "    </tr>\n",
              "</table>"
            ],
            "text/plain": [
              "[('The Matrix', 'Wachowski Sisters', 'Keanu Reeves', 120.0),\n",
              " ('V for Vendetta', 'Wachowski Sisters', 'Hugo Weaving', 120.0),\n",
              " ('2001 A Space Odyssey', 'Stanley Kubrick', 'Keir Dullea', 120.0),\n",
              " ('The Dark Knight', 'Christopher Nolan', 'Christian Bale', 120.0),\n",
              " ('21 JumpStreet', 'Zach End', 'Joahna Hill', 90.0),\n",
              " ('Spaceballs', 'Mel Gibson', 'Rick Moranis', 90.0),\n",
              " ('John Wick', 'David Leitch', 'Keanu Reeves', 90.0)]"
            ]
          },
          "metadata": {
            "tags": []
          },
          "execution_count": 13
        }
      ]
    },
    {
      "cell_type": "markdown",
      "metadata": {
        "id": "1ljDquVnU0Mw"
      },
      "source": [
        "# Questions"
      ]
    },
    {
      "cell_type": "markdown",
      "metadata": {
        "id": "10JeMEMAVDPj"
      },
      "source": [
        "How many authors have the letters 'e' and 's' next to each other?"
      ]
    },
    {
      "cell_type": "code",
      "metadata": {
        "colab": {
          "base_uri": "https://localhost:8080/",
          "height": 132
        },
        "id": "EjhiKj1GWIqj",
        "outputId": "2117e083-50eb-42e1-c1a3-a5101eede7ce"
      },
      "source": [
        "%%sql\n",
        "\n",
        "select Author from Books where Author like '%es%';"
      ],
      "execution_count": null,
      "outputs": [
        {
          "output_type": "stream",
          "text": [
            " * sqlite:///libraryDatabase.db\n",
            "Done.\n"
          ],
          "name": "stdout"
        },
        {
          "output_type": "execute_result",
          "data": {
            "text/html": [
              "<table>\n",
              "    <tr>\n",
              "        <th>Author</th>\n",
              "    </tr>\n",
              "    <tr>\n",
              "        <td>Ernest Hemingway</td>\n",
              "    </tr>\n",
              "    <tr>\n",
              "        <td>William Shakespeare</td>\n",
              "    </tr>\n",
              "    <tr>\n",
              "        <td>Charles Dickens</td>\n",
              "    </tr>\n",
              "</table>"
            ],
            "text/plain": [
              "[('Ernest Hemingway',), ('William Shakespeare',), ('Charles Dickens',)]"
            ]
          },
          "metadata": {
            "tags": []
          },
          "execution_count": 14
        }
      ]
    },
    {
      "cell_type": "markdown",
      "metadata": {
        "id": "kxiyBiFCXJ7Q"
      },
      "source": [
        "How many transactions were completed on the 15th of Novemebr in 2019?"
      ]
    },
    {
      "cell_type": "code",
      "metadata": {
        "colab": {
          "base_uri": "https://localhost:8080/",
          "height": 92
        },
        "id": "WR1BiOmGEnM8",
        "outputId": "d08c6b33-e2d9-49da-e59b-68c25dd90a91"
      },
      "source": [
        "%%sql\n",
        "\n",
        "select count(transactionID) from transactions where DateTime like '2019-11-15%';"
      ],
      "execution_count": null,
      "outputs": [
        {
          "output_type": "stream",
          "text": [
            " * sqlite:///libraryDatabase.db\n",
            "Done.\n"
          ],
          "name": "stdout"
        },
        {
          "output_type": "execute_result",
          "data": {
            "text/html": [
              "<table>\n",
              "    <tr>\n",
              "        <th>count(transactionID)</th>\n",
              "    </tr>\n",
              "    <tr>\n",
              "        <td>9</td>\n",
              "    </tr>\n",
              "</table>"
            ],
            "text/plain": [
              "[(9,)]"
            ]
          },
          "metadata": {
            "tags": []
          },
          "execution_count": 23
        }
      ]
    },
    {
      "cell_type": "markdown",
      "metadata": {
        "id": "PONxHqgQsU0d"
      },
      "source": [
        "What is the longest movie that can be rented that features Keanu Reeves as the main actor?\n",
        "\n",
        "\n",
        "\n"
      ]
    },
    {
      "cell_type": "code",
      "metadata": {
        "colab": {
          "base_uri": "https://localhost:8080/",
          "height": 112
        },
        "id": "h92_-QKjspkM",
        "outputId": "4dfa26d6-c0bd-493f-eaf7-775aa9e592ed"
      },
      "source": [
        "%%sql\n",
        "select Title from Movies WHERE Actors LIKE '%Keanu%';"
      ],
      "execution_count": null,
      "outputs": [
        {
          "output_type": "stream",
          "text": [
            " * sqlite:///libraryDatabase.db\n",
            "Done.\n"
          ],
          "name": "stdout"
        },
        {
          "output_type": "execute_result",
          "data": {
            "text/html": [
              "<table>\n",
              "    <tr>\n",
              "        <th>Title</th>\n",
              "    </tr>\n",
              "    <tr>\n",
              "        <td>The Matrix</td>\n",
              "    </tr>\n",
              "    <tr>\n",
              "        <td>John Wick</td>\n",
              "    </tr>\n",
              "</table>"
            ],
            "text/plain": [
              "[('The Matrix',), ('John Wick',)]"
            ]
          },
          "metadata": {
            "tags": []
          },
          "execution_count": 24
        }
      ]
    },
    {
      "cell_type": "markdown",
      "metadata": {
        "id": "Mtq-2Ia_HbQi"
      },
      "source": [
        ""
      ]
    },
    {
      "cell_type": "code",
      "metadata": {
        "id": "-mdyeAZMHa8b"
      },
      "source": [
        ""
      ],
      "execution_count": null,
      "outputs": []
    }
  ]
}